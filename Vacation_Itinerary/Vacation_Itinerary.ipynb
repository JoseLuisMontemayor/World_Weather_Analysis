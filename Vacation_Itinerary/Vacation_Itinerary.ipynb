{
 "cells": [
  {
   "cell_type": "markdown",
   "metadata": {},
   "source": [
    "## Deliverable 3. Create a Travel Itinerary Map."
   ]
  },
  {
   "cell_type": "code",
   "execution_count": 2,
   "metadata": {},
   "outputs": [],
   "source": [
    "# Dependencies and Setup\n",
    "import pandas as pd\n",
    "import requests\n",
    "import gmaps\n",
    "\n",
    "# Import API key\n",
    "from config import g_key\n",
    "\n",
    "# Configure gmaps\n",
    "gmaps.configure(api_key=g_key)"
   ]
  },
  {
   "cell_type": "code",
   "execution_count": 3,
   "metadata": {},
   "outputs": [
    {
     "data": {
      "text/html": [
       "<div>\n",
       "<style scoped>\n",
       "    .dataframe tbody tr th:only-of-type {\n",
       "        vertical-align: middle;\n",
       "    }\n",
       "\n",
       "    .dataframe tbody tr th {\n",
       "        vertical-align: top;\n",
       "    }\n",
       "\n",
       "    .dataframe thead th {\n",
       "        text-align: right;\n",
       "    }\n",
       "</style>\n",
       "<table border=\"1\" class=\"dataframe\">\n",
       "  <thead>\n",
       "    <tr style=\"text-align: right;\">\n",
       "      <th></th>\n",
       "      <th>City_ID</th>\n",
       "      <th>City</th>\n",
       "      <th>Country</th>\n",
       "      <th>Max Temp</th>\n",
       "      <th>Current Description</th>\n",
       "      <th>Lat</th>\n",
       "      <th>Lng</th>\n",
       "      <th>Hotel Name</th>\n",
       "    </tr>\n",
       "  </thead>\n",
       "  <tbody>\n",
       "    <tr>\n",
       "      <th>0</th>\n",
       "      <td>1</td>\n",
       "      <td>Atuona</td>\n",
       "      <td>PF</td>\n",
       "      <td>78.48</td>\n",
       "      <td>clear sky</td>\n",
       "      <td>-9.8000</td>\n",
       "      <td>-139.0333</td>\n",
       "      <td>Villa Enata</td>\n",
       "    </tr>\n",
       "    <tr>\n",
       "      <th>1</th>\n",
       "      <td>3</td>\n",
       "      <td>Champerico</td>\n",
       "      <td>GT</td>\n",
       "      <td>84.31</td>\n",
       "      <td>overcast clouds</td>\n",
       "      <td>14.3000</td>\n",
       "      <td>-91.9167</td>\n",
       "      <td>Hotel y restaurante \"El Diamante\"</td>\n",
       "    </tr>\n",
       "    <tr>\n",
       "      <th>2</th>\n",
       "      <td>5</td>\n",
       "      <td>Soe</td>\n",
       "      <td>ID</td>\n",
       "      <td>85.05</td>\n",
       "      <td>scattered clouds</td>\n",
       "      <td>-9.8607</td>\n",
       "      <td>124.2840</td>\n",
       "      <td>Dena Hotel</td>\n",
       "    </tr>\n",
       "    <tr>\n",
       "      <th>3</th>\n",
       "      <td>6</td>\n",
       "      <td>Atar</td>\n",
       "      <td>MR</td>\n",
       "      <td>85.42</td>\n",
       "      <td>overcast clouds</td>\n",
       "      <td>20.5169</td>\n",
       "      <td>-13.0499</td>\n",
       "      <td>Oumou Elghoura</td>\n",
       "    </tr>\n",
       "    <tr>\n",
       "      <th>4</th>\n",
       "      <td>8</td>\n",
       "      <td>Georgetown</td>\n",
       "      <td>MY</td>\n",
       "      <td>89.53</td>\n",
       "      <td>few clouds</td>\n",
       "      <td>5.4112</td>\n",
       "      <td>100.3354</td>\n",
       "      <td>Cititel Penang</td>\n",
       "    </tr>\n",
       "  </tbody>\n",
       "</table>\n",
       "</div>"
      ],
      "text/plain": [
       "   City_ID        City Country  Max Temp Current Description      Lat  \\\n",
       "0        1      Atuona      PF     78.48           clear sky  -9.8000   \n",
       "1        3  Champerico      GT     84.31     overcast clouds  14.3000   \n",
       "2        5         Soe      ID     85.05    scattered clouds  -9.8607   \n",
       "3        6        Atar      MR     85.42     overcast clouds  20.5169   \n",
       "4        8  Georgetown      MY     89.53          few clouds   5.4112   \n",
       "\n",
       "        Lng                         Hotel Name  \n",
       "0 -139.0333                        Villa Enata  \n",
       "1  -91.9167  Hotel y restaurante \"El Diamante\"  \n",
       "2  124.2840                         Dena Hotel  \n",
       "3  -13.0499                     Oumou Elghoura  \n",
       "4  100.3354                     Cititel Penang  "
      ]
     },
     "execution_count": 3,
     "metadata": {},
     "output_type": "execute_result"
    }
   ],
   "source": [
    "# 1. Read the WeatherPy_vacation.csv into a DataFrame.\n",
    "vacation_df = pd.read_csv(\"Vacation_Search/WeatherPy_Vacation.csv\")\n",
    "vacation_df.head()\n"
   ]
  },
  {
   "cell_type": "code",
   "execution_count": 4,
   "metadata": {},
   "outputs": [],
   "source": [
    "# 2. Using the template add the city name, the country code, the weather description and maximum temperature for the city.\n",
    "info_box_template = \"\"\"\n",
    "<dl>\n",
    "<dt>Hotel Name</dt><dd>{Hotel Name}</dd>\n",
    "<dt>City</dt><dd>{City}</dd>\n",
    "<dt>Country</dt><dd>{Country}</dd>\n",
    "<dt>Max Temp</dt><dd>{Max Temp} °F</dd>\n",
    "</dl>\n",
    "\"\"\"\n",
    "\n",
    "# 3a. Get the data from each row and add it to the formatting template and store the data in a list.\n",
    "vacation_info = [info_box_template.format(**row) for index, row in vacation_df.iterrows()]\n",
    "\n",
    "# 3b. Get the latitude and longitude from each row and store in a new DataFrame.\n",
    "locations = vacation_df[[\"Lat\", \"Lng\"]]"
   ]
  },
  {
   "cell_type": "code",
   "execution_count": 22,
   "metadata": {},
   "outputs": [
    {
     "data": {
      "application/vnd.jupyter.widget-view+json": {
       "model_id": "2e9d24f80ad041b586961078b0087e53",
       "version_major": 2,
       "version_minor": 0
      },
      "text/plain": [
       "Figure(layout=FigureLayout(height='420px'))"
      ]
     },
     "metadata": {},
     "output_type": "display_data"
    }
   ],
   "source": [
    "# 4a. Add a marker layer for each city to the map.\n",
    "locations = vacation_df[[\"Lat\", \"Lng\"]]\n",
    "max_temp = vacation_df[\"Max Temp\"]\n",
    "fig = gmaps.figure(center=(30.0, 31.0), zoom_level=1.5)\n",
    "heat_layer = gmaps.heatmap_layer(locations, weights=max_temp,dissipating=False,\n",
    "             max_intensity=300, point_radius=4)\n",
    "marker_layer = gmaps.marker_layer(locations, info_box_content=vacation_info)\n",
    "fig.add_layer(heat_layer)\n",
    "fig.add_layer(marker_layer)\n",
    "\n",
    "\n",
    "# 4b. Display the figure\n",
    "fig\n",
    "\n"
   ]
  },
  {
   "cell_type": "code",
   "execution_count": 33,
   "metadata": {},
   "outputs": [],
   "source": [
    "# From the map above pick 4 cities and create a vacation itinerary route to travel between the four cities. \n",
    "# 5. Create DataFrames for each city by filtering the 'vacation_df' using the loc method. \n",
    "# Hint: The starting and ending city should be the same city.\n",
    "\n",
    "vacation_start = vacation_df.loc[(vacation_df['City']=='Lovington')\n",
    "                                & (vacation_df['Hotel Name']=='Buena vida rv parks')]\n",
    "vacation_end = vacation_df.loc[(vacation_df['City']=='Lovington')\n",
    "                              & (vacation_df['Hotel Name']=='Buena vida rv parks')]\n",
    "vacation_stop1 = vacation_df.loc[(vacation_df['City']=='San Patricio')\n",
    "                              & (vacation_df['Hotel Name']=='Motel 6 Sinton, TX')]\n",
    "vacation_stop2 = vacation_df.loc[(vacation_df['City']=='Galveston')\n",
    "                                & (vacation_df['Hotel Name']=='Crystal Suites')] \n",
    "vacation_stop3 = vacation_df.loc[(vacation_df['City']=='Rincon')\n",
    "                                & (vacation_df['Hotel Name']=='Days Inn Rincon')]"
   ]
  },
  {
   "cell_type": "code",
   "execution_count": 34,
   "metadata": {},
   "outputs": [
    {
     "data": {
      "text/plain": [
       "(array([[  32.944 , -103.3485]]),\n",
       " array([[ 28.017 , -97.5169]]),\n",
       " array([[ 29.3669, -94.9669]]),\n",
       " array([[ 32.296 , -81.2354]]))"
      ]
     },
     "execution_count": 34,
     "metadata": {},
     "output_type": "execute_result"
    }
   ],
   "source": [
    "# 6. Get the latitude-longitude pairs as tuples from each city DataFrame using the to_numpy function and list indexing.\n",
    "start = pd.DataFrame(vacation_start[[\"Lat\", \"Lng\"]]).to_numpy()\n",
    "end = pd.DataFrame(vacation_end[[\"Lat\", \"Lng\"]]).to_numpy()\n",
    "stop1 = pd.DataFrame(vacation_stop1[[\"Lat\", \"Lng\"]]).to_numpy()\n",
    "stop2 = pd.DataFrame(vacation_stop2[[\"Lat\", \"Lng\"]]).to_numpy()\n",
    "stop3 = pd.DataFrame(vacation_stop3[[\"Lat\", \"Lng\"]]).to_numpy()\n",
    "\n",
    "start, stop1, stop2, stop3\n"
   ]
  },
  {
   "cell_type": "code",
   "execution_count": 35,
   "metadata": {},
   "outputs": [],
   "source": [
    "# Latitude - Longitude pairs\n",
    "start=(32.944 , -103.3485)\n",
    "end=(32.944 , -103.3485)\n",
    "stop1=(28.017 , -97.5169)\n",
    "stop2=(29.3669, -94.9669)\n",
    "stop3=(32.296 , -81.2354)\n"
   ]
  },
  {
   "cell_type": "code",
   "execution_count": 36,
   "metadata": {
    "scrolled": true
   },
   "outputs": [
    {
     "data": {
      "application/vnd.jupyter.widget-view+json": {
       "model_id": "d105965d540849218206629c39e3fc9f",
       "version_major": 2,
       "version_minor": 0
      },
      "text/plain": [
       "Figure(layout=FigureLayout(height='420px'))"
      ]
     },
     "metadata": {},
     "output_type": "display_data"
    }
   ],
   "source": [
    "# 7. Create a direction layer map using the start and end latitude-longitude pairs,\n",
    "# and stop1, stop2, and stop3 as the waypoints. The travel_mode should be \"DRIVING\", \"BICYCLING\", or \"WALKING\".\n",
    "fig = gmaps.figure()\n",
    "itinerary_trip_plan = gmaps.directions_layer(start,end, waypoints=[stop1,stop2,stop3], travel_mode=\"DRIVING\")\n",
    "\n",
    "fig.add_layer(itinerary_trip_plan)\n",
    "fig"
   ]
  },
  {
   "cell_type": "code",
   "execution_count": 37,
   "metadata": {},
   "outputs": [
    {
     "data": {
      "text/html": [
       "<div>\n",
       "<style scoped>\n",
       "    .dataframe tbody tr th:only-of-type {\n",
       "        vertical-align: middle;\n",
       "    }\n",
       "\n",
       "    .dataframe tbody tr th {\n",
       "        vertical-align: top;\n",
       "    }\n",
       "\n",
       "    .dataframe thead th {\n",
       "        text-align: right;\n",
       "    }\n",
       "</style>\n",
       "<table border=\"1\" class=\"dataframe\">\n",
       "  <thead>\n",
       "    <tr style=\"text-align: right;\">\n",
       "      <th></th>\n",
       "      <th>City_ID</th>\n",
       "      <th>City</th>\n",
       "      <th>Country</th>\n",
       "      <th>Max Temp</th>\n",
       "      <th>Current Description</th>\n",
       "      <th>Lat</th>\n",
       "      <th>Lng</th>\n",
       "      <th>Hotel Name</th>\n",
       "    </tr>\n",
       "  </thead>\n",
       "  <tbody>\n",
       "    <tr>\n",
       "      <th>0</th>\n",
       "      <td>655</td>\n",
       "      <td>Lovington</td>\n",
       "      <td>US</td>\n",
       "      <td>81.45</td>\n",
       "      <td>broken clouds</td>\n",
       "      <td>32.9440</td>\n",
       "      <td>-103.3485</td>\n",
       "      <td>Buena vida rv parks</td>\n",
       "    </tr>\n",
       "    <tr>\n",
       "      <th>1</th>\n",
       "      <td>97</td>\n",
       "      <td>San Patricio</td>\n",
       "      <td>US</td>\n",
       "      <td>78.85</td>\n",
       "      <td>scattered clouds</td>\n",
       "      <td>28.0170</td>\n",
       "      <td>-97.5169</td>\n",
       "      <td>Motel 6 Sinton, TX</td>\n",
       "    </tr>\n",
       "    <tr>\n",
       "      <th>2</th>\n",
       "      <td>696</td>\n",
       "      <td>Galveston</td>\n",
       "      <td>US</td>\n",
       "      <td>80.56</td>\n",
       "      <td>clear sky</td>\n",
       "      <td>29.3669</td>\n",
       "      <td>-94.9669</td>\n",
       "      <td>Crystal Suites</td>\n",
       "    </tr>\n",
       "    <tr>\n",
       "      <th>3</th>\n",
       "      <td>560</td>\n",
       "      <td>Rincon</td>\n",
       "      <td>US</td>\n",
       "      <td>76.96</td>\n",
       "      <td>clear sky</td>\n",
       "      <td>32.2960</td>\n",
       "      <td>-81.2354</td>\n",
       "      <td>Days Inn Rincon</td>\n",
       "    </tr>\n",
       "  </tbody>\n",
       "</table>\n",
       "</div>"
      ],
      "text/plain": [
       "   City_ID          City Country  Max Temp Current Description      Lat  \\\n",
       "0      655     Lovington      US     81.45       broken clouds  32.9440   \n",
       "1       97  San Patricio      US     78.85    scattered clouds  28.0170   \n",
       "2      696     Galveston      US     80.56           clear sky  29.3669   \n",
       "3      560        Rincon      US     76.96           clear sky  32.2960   \n",
       "\n",
       "        Lng           Hotel Name  \n",
       "0 -103.3485  Buena vida rv parks  \n",
       "1  -97.5169   Motel 6 Sinton, TX  \n",
       "2  -94.9669       Crystal Suites  \n",
       "3  -81.2354      Days Inn Rincon  "
      ]
     },
     "execution_count": 37,
     "metadata": {},
     "output_type": "execute_result"
    }
   ],
   "source": [
    "# 8. To create a marker layer map between the four cities.\n",
    "#  Combine the four city DataFrames into one DataFrame using the concat() function.\n",
    "itinerary_df = pd.concat([vacation_start, vacation_stop1, vacation_stop2, vacation_stop3],ignore_index=True)\n",
    "itinerary_df"
   ]
  },
  {
   "cell_type": "code",
   "execution_count": 40,
   "metadata": {},
   "outputs": [],
   "source": [
    "# 9 Using the template add city name, the country code, the weather description and maximum temperature for the city. \n",
    "info_box_template = \"\"\"\n",
    "<dt>Hotel Name</dt><dd>{Hotel Name}</dd>\n",
    "<dt>City</dt><dd>{City}</dd>\n",
    "<dt>Country</dt><dd>{Country}</dd>\n",
    "<dt>Weather Description</dt><dd>{Current Description}</dd>\n",
    "<dt>Max Temp</dt><dd>{Max Temp} °F</dd>\n",
    "</dl>\n",
    "\"\"\"\n",
    "\n",
    "# 10a Get the data from each row and add it to the formatting template and store the data in a list.\n",
    "itinerary_info = [info_box_template.format(**row) for index, row in itinerary_df.iterrows()]\n",
    "\n",
    "# 10b. Get the latitude and longitude from each row and store in a new DataFrame.\n",
    "itinerry_locations = itinerary_df[[\"Lat\", \"Lng\"]]"
   ]
  },
  {
   "cell_type": "code",
   "execution_count": 41,
   "metadata": {},
   "outputs": [
    {
     "data": {
      "application/vnd.jupyter.widget-view+json": {
       "model_id": "90288922b371408a8a87652700cab6ab",
       "version_major": 2,
       "version_minor": 0
      },
      "text/plain": [
       "Figure(layout=FigureLayout(height='420px'))"
      ]
     },
     "metadata": {},
     "output_type": "display_data"
    }
   ],
   "source": [
    "# 11a. Add a marker layer for each city to the map.\n",
    "itinerary_locations = itinerary_df[[\"Lat\", \"Lng\"]]\n",
    "fig = gmaps.figure(center=(36.0, -76.0), zoom_level=5)\n",
    "marker_layer = gmaps.marker_layer(itinerary_locations, info_box_content=itinerary_info)\n",
    "fig.add_layer(marker_layer)\n",
    "\n",
    "\n",
    "# 11b. Display the figure\n",
    "fig\n"
   ]
  },
  {
   "cell_type": "code",
   "execution_count": null,
   "metadata": {},
   "outputs": [],
   "source": []
  }
 ],
 "metadata": {
  "kernelspec": {
   "display_name": "PythonData",
   "language": "python",
   "name": "pythondata"
  },
  "language_info": {
   "codemirror_mode": {
    "name": "ipython",
    "version": 3
   },
   "file_extension": ".py",
   "mimetype": "text/x-python",
   "name": "python",
   "nbconvert_exporter": "python",
   "pygments_lexer": "ipython3",
   "version": "3.7.11"
  },
  "latex_envs": {
   "LaTeX_envs_menu_present": true,
   "autoclose": false,
   "autocomplete": true,
   "bibliofile": "biblio.bib",
   "cite_by": "apalike",
   "current_citInitial": 1,
   "eqLabelWithNumbers": true,
   "eqNumInitial": 1,
   "hotkeys": {
    "equation": "Ctrl-E",
    "itemize": "Ctrl-I"
   },
   "labels_anchors": false,
   "latex_user_defs": false,
   "report_style_numbering": false,
   "user_envs_cfg": false
  }
 },
 "nbformat": 4,
 "nbformat_minor": 2
}

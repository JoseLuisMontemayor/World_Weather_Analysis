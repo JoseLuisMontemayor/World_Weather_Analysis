{
 "cells": [
  {
   "cell_type": "code",
   "execution_count": 48,
   "id": "23654a87",
   "metadata": {},
   "outputs": [],
   "source": [
    "# Import the random module\n",
    "import random\n"
   ]
  },
  {
   "cell_type": "code",
   "execution_count": 49,
   "id": "38f29556",
   "metadata": {},
   "outputs": [
    {
     "data": {
      "text/plain": [
       "-53"
      ]
     },
     "execution_count": 49,
     "metadata": {},
     "output_type": "execute_result"
    }
   ],
   "source": [
    "random.randint(-90,90)"
   ]
  },
  {
   "cell_type": "code",
   "execution_count": 50,
   "id": "ed02de46",
   "metadata": {},
   "outputs": [
    {
     "data": {
      "text/plain": [
       "0.08885478416519288"
      ]
     },
     "execution_count": 50,
     "metadata": {},
     "output_type": "execute_result"
    }
   ],
   "source": [
    "random.random()"
   ]
  },
  {
   "cell_type": "code",
   "execution_count": 51,
   "id": "36a1e6ad",
   "metadata": {},
   "outputs": [
    {
     "data": {
      "text/plain": [
       "5.380290090103545"
      ]
     },
     "execution_count": 51,
     "metadata": {},
     "output_type": "execute_result"
    }
   ],
   "source": [
    "random_number = random.randint(-90, 89) + random.random()\n",
    "random_number\n"
   ]
  },
  {
   "cell_type": "code",
   "execution_count": 52,
   "id": "a6a02a07",
   "metadata": {},
   "outputs": [],
   "source": [
    "x = 1\n",
    "latitudes = []\n",
    "while x < 11:\n",
    "    random_lat = random.randint(-90, 89) + random.random()\n",
    "    latitudes.append(random_lat)\n",
    "    x += 1\n"
   ]
  },
  {
   "cell_type": "code",
   "execution_count": 53,
   "id": "0dad1c3e",
   "metadata": {},
   "outputs": [
    {
     "data": {
      "text/plain": [
       "-14"
      ]
     },
     "execution_count": 53,
     "metadata": {},
     "output_type": "execute_result"
    }
   ],
   "source": [
    "random.randrange(-90, 89, step=1)"
   ]
  },
  {
   "cell_type": "code",
   "execution_count": 54,
   "id": "02b7c575",
   "metadata": {},
   "outputs": [
    {
     "data": {
      "text/plain": [
       "-9"
      ]
     },
     "execution_count": 54,
     "metadata": {},
     "output_type": "execute_result"
    }
   ],
   "source": [
    "random.randrange(-90, 89, step=3)"
   ]
  },
  {
   "cell_type": "code",
   "execution_count": 55,
   "id": "39d467fd",
   "metadata": {},
   "outputs": [
    {
     "data": {
      "text/plain": [
       "-75.0717261725851"
      ]
     },
     "execution_count": 55,
     "metadata": {},
     "output_type": "execute_result"
    }
   ],
   "source": [
    "random.uniform(-90, 90)"
   ]
  },
  {
   "cell_type": "code",
   "execution_count": 56,
   "id": "d70239e5",
   "metadata": {},
   "outputs": [],
   "source": [
    "# Import the NumPy module.\n",
    "import numpy as np\n"
   ]
  },
  {
   "cell_type": "code",
   "execution_count": 57,
   "id": "2160b478",
   "metadata": {},
   "outputs": [
    {
     "data": {
      "text/plain": [
       "-74.81891795422375"
      ]
     },
     "execution_count": 57,
     "metadata": {},
     "output_type": "execute_result"
    }
   ],
   "source": [
    "np.random.uniform(-90.000, 90.000)"
   ]
  },
  {
   "cell_type": "code",
   "execution_count": 58,
   "id": "28285a3a",
   "metadata": {
    "scrolled": true
   },
   "outputs": [
    {
     "data": {
      "text/plain": [
       "array([ 31.00854617,  64.31632239,  44.72546964, -15.70281163,\n",
       "       -22.36929044, -24.37896889,   0.2860894 ,  29.20939997,\n",
       "        30.15776132, -51.3921636 ,  25.33045286, -39.52377784,\n",
       "       -25.19769379, -29.92287823,   7.75258122, -80.44042175,\n",
       "       -82.21730169, -87.88077742,   7.71439916,   4.37006674,\n",
       "       -89.84600685, -28.90984642,  76.41536819,  88.26484883,\n",
       "        15.2791712 ,  43.56321325,  51.56491456, -57.11647165,\n",
       "        68.74652533,  72.12056644, -73.93233044, -37.52869609,\n",
       "        -3.76210714,  43.94629897, -19.46449494,  -6.08415819,\n",
       "       -14.06171248, -70.1107692 , -18.81456297, -25.07252664,\n",
       "       -50.92100046,  29.16709423,  40.53088479,   1.51368142,\n",
       "       -61.6774848 ,  29.75117379, -78.52880024, -86.79996652,\n",
       "       -37.00238337, -67.72663276])"
      ]
     },
     "execution_count": 58,
     "metadata": {},
     "output_type": "execute_result"
    }
   ],
   "source": [
    "np.random.uniform(-90.000, 90.000, size=50)"
   ]
  },
  {
   "cell_type": "code",
   "execution_count": 59,
   "id": "e6891bdf",
   "metadata": {},
   "outputs": [],
   "source": [
    "# Import timeit\n",
    "import timeit"
   ]
  },
  {
   "cell_type": "code",
   "execution_count": 60,
   "id": "e5d35821",
   "metadata": {},
   "outputs": [
    {
     "name": "stdout",
     "output_type": "stream",
     "text": [
      "14.2 µs ± 630 ns per loop (mean ± std. dev. of 7 runs, 100000 loops each)\n"
     ]
    }
   ],
   "source": [
    "%timeit np.random.uniform(-90.000, 90.000, size=1500)"
   ]
  },
  {
   "cell_type": "code",
   "execution_count": 61,
   "id": "c1ca8b8f",
   "metadata": {},
   "outputs": [
    {
     "name": "stdout",
     "output_type": "stream",
     "text": [
      "1.8 ms ± 105 µs per loop (mean ± std. dev. of 7 runs, 1000 loops each)\n"
     ]
    }
   ],
   "source": [
    "def latitudes(size):\n",
    "    latitudes = []\n",
    "    x = 0\n",
    "    while x < (size):\n",
    "        random_lat = random.randint(-90, 90) + random.random()\n",
    "        latitudes.append(random_lat)\n",
    "        x += 1\n",
    "    return latitudes\n",
    "\n",
    "# Call the function with 1500.\n",
    "%timeit latitudes(1500)"
   ]
  },
  {
   "cell_type": "code",
   "execution_count": null,
   "id": "07baa7df",
   "metadata": {},
   "outputs": [],
   "source": []
  }
 ],
 "metadata": {
  "kernelspec": {
   "display_name": "PythonData",
   "language": "python",
   "name": "pythondata"
  },
  "language_info": {
   "codemirror_mode": {
    "name": "ipython",
    "version": 3
   },
   "file_extension": ".py",
   "mimetype": "text/x-python",
   "name": "python",
   "nbconvert_exporter": "python",
   "pygments_lexer": "ipython3",
   "version": "3.7.11"
  }
 },
 "nbformat": 4,
 "nbformat_minor": 5
}
